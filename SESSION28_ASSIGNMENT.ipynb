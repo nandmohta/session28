{
 "cells": [
  {
   "cell_type": "code",
   "execution_count": 1,
   "metadata": {},
   "outputs": [],
   "source": [
    "# In this assignment students have to find the frequency of words in a webpage. User can\n",
    "# use urllib and BeautifulSoup to extract text from webpage."
   ]
  },
  {
   "cell_type": "code",
   "execution_count": 2,
   "metadata": {},
   "outputs": [],
   "source": [
    "from bs4 import BeautifulSoup\n",
    "import urllib.request\n",
    "import nltk"
   ]
  },
  {
   "cell_type": "code",
   "execution_count": 3,
   "metadata": {},
   "outputs": [],
   "source": [
    "response = urllib.request.urlopen('http://php.net/')\n",
    "html = response.read()\n",
    "soup = BeautifulSoup(html,\"html5lib\").get"
   ]
  },
  {
   "cell_type": "code",
   "execution_count": 5,
   "metadata": {},
   "outputs": [],
   "source": [
    "textdata = soup.get_text()"
   ]
  },
  {
   "cell_type": "code",
   "execution_count": 29,
   "metadata": {},
   "outputs": [],
   "source": [
    "# Split the words using the word tokenize method in nltk\n",
    "textdataformat = nltk.word_tokenize(textdata)"
   ]
  },
  {
   "cell_type": "code",
   "execution_count": 30,
   "metadata": {},
   "outputs": [],
   "source": [
    "# Using frequency distribution get the counts\n",
    "\n",
    "counts =nltk.FreqDist(textdataformat)"
   ]
  },
  {
   "cell_type": "code",
   "execution_count": 31,
   "metadata": {},
   "outputs": [],
   "source": [
    "# Get the total vocabulary in the text\n",
    "vocab = len(counts.keys())"
   ]
  },
  {
   "cell_type": "code",
   "execution_count": 32,
   "metadata": {},
   "outputs": [],
   "source": [
    "# Get the count of each vocabulary\n",
    "words = sum(counts.values())"
   ]
  },
  {
   "cell_type": "code",
   "execution_count": 33,
   "metadata": {},
   "outputs": [],
   "source": [
    "lexdiv = float(vocab)/float(words)"
   ]
  },
  {
   "cell_type": "code",
   "execution_count": 34,
   "metadata": {},
   "outputs": [
    {
     "name": "stdout",
     "output_type": "stream",
     "text": [
      "Soup has 506 types and 4196 tokens for a lexical diversity of 0.121\n"
     ]
    }
   ],
   "source": [
    "print(\"Soup has %i types and %i tokens for a lexical diversity of %0.3f\" % (vocab,words,lexdiv))"
   ]
  },
  {
   "cell_type": "code",
   "execution_count": 67,
   "metadata": {},
   "outputs": [
    {
     "name": "stdout",
     "output_type": "stream",
     "text": [
      "[('the', 249), ('.', 227), ('PHP', 198), ('of', 100), (',', 92), ('release', 84), ('in', 83), ('be', 79), ('can', 78), ('and', 77), ('The', 75), ('for', 69), ('found', 68), ('on', 63), ('is', 51), ('file', 45), ('to', 43), ('For', 43), ('version', 36), ('you', 36), ('changes', 33), ('or', 33), ('source', 32), ('downloads', 32), ('this', 30), ('list', 30), ('page', 28), ('a', 27), ('also', 26), ('Windows', 25), ('team', 25), ('please', 25), ('visit', 25), ('Released', 24), ('binaries', 24), ('7.3.0', 23), ('read', 23), ('bug', 22), ('are', 20), ('next', 20), ('files', 19), ('test', 19), ('-', 19), ('7.2.0', 19), ('A', 18), ('download', 18), ('carefully', 18), ('report', 18), ('any', 18), ('system', 18), ('DO', 18), ('NOT', 18), ('!', 18), ('information', 18), ('new', 18), ('features', 18), ('other', 18), ('NEWS', 18), ('UPGRADING', 18), ('complete', 18), ('upgrading', 18), ('notes', 18), ('These', 18), ('archive', 18), ('planned', 18), ('Thank', 18), ('helping', 18), ('us', 18), ('make', 18), ('better', 18), ('sources', 17), ('windows.php.net/qa/', 17), ('THIS', 17), ('IS', 17), ('DEVELOPMENT', 17), ('PREVIEW', 17), ('USE', 17), ('IT', 17), ('IN', 17), ('PRODUCTION', 17), ('more', 17), ('Extensions', 16), ('Please', 16), ('issues', 16), ('7.3', 16), ('2018', 16), ('Release', 15), ('Candidate', 14), ('This', 13), ('development', 13), ('glad', 13), ('announce', 13), ('rough', 13), ('outline', 13), ('cycle', 13), ('specified', 13), ('Wiki', 13), ('reporting', 13), ('would', 13), ('signatures', 13), ('manifest', 13), ('QA', 13), ('site', 13), ('3', 13), ('announces', 12), ('immediate', 12), ('availability', 12), ('All', 12), ('users', 12), ('encouraged', 12), ('our', 12), ('Alpha', 12), ('upgrade', 9), ('security', 8), ('Internal', 8), ('listed', 8), ('UPGRADING.INTERNALS', 8), ('1', 8), ('windows.php.net/download/', 7), ('recorded', 7), ('ChangeLog', 7), ('will', 7), ('Beta', 7), ('g', 6), ('bugs', 6), ('pre-release', 6), ('2', 6), ('that', 5), ('2019', 5), ('it', 5), ('fixes', 5), ('Aug', 5), ('2017', 5), ('incompatibilities', 5), ('tracking', 5), ('You', 5), ('full', 5), ('releases', 5), ('wiki', 5), ('Security', 4), ('Related', 4), ('Notes·Upgrading', 4), ('10', 4), ('Jan', 4), ('5.6.40', 4), ('5.6', 4), ('branch', 4), ('may', 4), ('7.1', 4), ('7.2', 4), ('which', 4), ('contains', 4), ('several', 4), ('7.0.33', 4), ('7.0', 4), ('October', 4), ('August', 4), ('first', 4), ('at', 4), ('Conference', 4), ('Predefined', 3), ('Database', 3), ('with', 3), ('Services', 3), ('Processing', 3), ('Other', 3), ('your', 3), ('last', 3), ('final', 3), ('7.1.26', 3), ('7.3.1', 3), ('7.2.14', 3), ('06', 3), ('7.1.25', 3), ('7.3.0RC6', 3), ('7.3.0RC5', 3), ('Oct', 3), ('7.3.0RC4', 3), ('7.3.0RC3', 3), ('Sep', 3), ('7.3.0RC2', 3), ('7.3.0RC1', 3), ('September', 3), ('Jul', 3), ('7.3.0alpha4', 3), ('alpha', 3), ('third', 3), ('July', 3), ('7.2.2', 3), ('released', 3), ('Introduction', 2), ('Language', 2), ('Reference', 2), ('Basic', 2), ('Variables', 2), ('Control', 2), ('Classes', 2), ('Exceptions', 2), ('Installed', 2), ('as', 2), ('an', 2), ('Session', 2), ('Using', 2), ('User', 2), ('Command', 2), ('Manipulation', 2), ('Specific', 2), ('Next', 2), ('menu', 2), ('item', 2), ('Previous', 2), ('man', 2), ('Scroll', 2), ('Goto', 2), ('search', 2), ('(', 2), (')', 2), ('popular', 2), ('fixed', 2), ('note', 2), ('according', 2), ('support', 2), ('timelines', 2), ('scheduled', 2), ('There', 2), ('additional', 2), ('if', 2), ('we', 2), ('discover', 2), ('important', 2), ('warrant', 2), ('otherwise', 2), ('one', 2), ('If', 2), ('installation', 2), ('based', 2), ('good', 2), ('time', 2), ('start', 2), ('making', 2), ('plans', 2), ('Dec', 2), ('Nov', 2), ('November', 2), ('RC4', 2), ('28', 2), ('RC3', 2), ('7.3.0beta3', 2), ('7.3.0beta2', 2), ('7.3.0beta1', 2), ('fourth', 2), ('21', 2), ('Jun', 2), ('second', 2), ('4', 2), ('announced', 2), ('beta', 2), ('2019Dutch', 2), ('Group', 2), ('PHP.net', 2), ('sites', 2), (':', 1), ('Hypertext', 1), ('Preprocessor', 1), ('Downloads', 1), ('Documentation', 1), ('Get', 1), ('Involved', 1), ('Help', 1), ('Getting', 1), ('Started', 1), ('simple', 1), ('tutorial', 1), ('syntax', 1), ('Types', 1), ('Constants', 1), ('Expressions', 1), ('Operators', 1), ('Structures', 1), ('Functions', 1), ('Objects', 1), ('Namespaces', 1), ('Errors', 1), ('Generators', 1), ('References', 1), ('Explained', 1), ('Interfaces', 1), ('Context', 1), ('options', 1), ('parameters', 1), ('Supported', 1), ('Protocols', 1), ('Wrappers', 1), ('General', 1), ('considerations', 1), ('CGI', 1), ('binary', 1), ('Apache', 1), ('module', 1), ('Filesystem', 1), ('Error', 1), ('Reporting', 1), ('Register', 1), ('Globals', 1), ('Submitted', 1), ('Data', 1), ('Magic', 1), ('Quotes', 1), ('Hiding', 1), ('Keeping', 1), ('Current', 1), ('Features', 1), ('HTTP', 1), ('authentication', 1), ('Cookies', 1), ('Sessions', 1), ('Dealing', 1), ('XForms', 1), ('Handling', 1), ('uploads', 1), ('remote', 1), ('Connection', 1), ('handling', 1), ('Persistent', 1), ('Connections', 1), ('Safe', 1), ('Mode', 1), ('line', 1), ('usage', 1), ('Garbage', 1), ('Collection', 1), ('DTrace', 1), ('Dynamic', 1), ('Tracing', 1), ('Function', 1), ('Affecting', 1), (\"'s\", 1), ('Behaviour', 1), ('Audio', 1), ('Formats', 1), ('Authentication', 1), ('Line', 1), ('Compression', 1), ('Archive', 1), ('Credit', 1), ('Card', 1), ('Cryptography', 1), ('Date', 1), ('Time', 1), ('File', 1), ('System', 1), ('Human', 1), ('Character', 1), ('Encoding', 1), ('Support', 1), ('Image', 1), ('Generation', 1), ('Mail', 1), ('Mathematical', 1), ('Non-Text', 1), ('MIME', 1), ('Output', 1), ('Process', 1), ('Search', 1), ('Engine', 1), ('Server', 1), ('Text', 1), ('Variable', 1), ('Type', 1), ('Web', 1), ('Only', 1), ('XML', 1), ('GUI', 1), ('Keyboard', 1), ('Shortcuts', 1), ('?', 1), ('help', 1), ('j', 1), ('k', 1), ('p', 1), ('n', 1), ('G', 1), ('bottom', 1), ('top', 1), ('h', 1), ('homepage', 1), ('s', 1), ('current', 1), ('/', 1), ('Focus', 1), ('box', 1), ('general-purpose', 1), ('scripting', 1), ('language', 1), ('especially', 1), ('suited', 1), ('web', 1), ('Fast', 1), ('flexible', 1), ('pragmatic', 1), ('powers', 1), ('everything', 1), ('from', 1), ('blog', 1), ('most', 1), ('websites', 1), ('world', 1), ('Download', 1), ('5.6.40·Release', 1), ('7.1.26·Release', 1), ('7.2.14·Release', 1), ('7.3.1·Release', 1), ('Several', 1), ('have', 1), ('been', 1), ('Announcement', 1), ('minor', 1), ('Five', 1), ('security-related', 1), ('were', 1), ('22', 1), ('presumably', 1), ('GA', 1), ('December', 1), ('6th', 1), ('08', 1), ('RC6', 1), ('22nd', 1), ('25', 1), ('RC5', 1), ('8th', 1), ('11', 1), ('25th', 1), ('11th', 1), ('13', 1), ('RC2', 1), ('27th', 1), ('30', 1), ('7.3.0.beta3', 1), ('seventh', 1), ('RC1', 1), ('13th', 1), ('16', 1), ('7.3.0.beta2', 1), ('sixth', 1), ('30th', 1), ('02', 1), ('7.3.0.beta1', 1), ('fifth', 1), ('16th', 1), ('19', 1), ('2nd', 1), ('05', 1), ('19th', 1), ('5', 1), ('07', 1), ('starts', 1), ('use', 1), ('production', 1), ('early', 1), ('June', 1), ('01', 1), ('Feb', 1), ('bugfix', 1), ('included', 1), ('12', 1), ('26th', 1), ('12th', 1), ('31', 1), ('14th', 1), ('17', 1), ('31th', 1), ('improvements', 1), ('relative', 1), ('20th', 1), ('Older', 1), ('News', 1), ('Entries', 1), ('Upcoming', 1), ('conferencesLaracon', 1), ('OnlineSunshinePHP', 1), ('2019International', 1), ('Spring', 1), ('Edition', 1), ('Conferences', 1), ('calling', 1), ('papersScotlandPHP', 1), ('2019PHPKonf', 1), ('Istanbul', 1), ('CfP', 1), ('open', 1), ('Events', 1), ('Special', 1), ('Thanks', 1), ('Social', 1), ('media', 1), ('@', 1), ('official_php', 1), ('Copyright', 1), ('©', 1), ('2001-2019', 1), ('My', 1), ('Contact', 1), ('Mirror', 1), ('Privacy', 1), ('policy', 1)]\n"
     ]
    }
   ],
   "source": [
    "print(counts.most_common())"
   ]
  },
  {
   "cell_type": "code",
   "execution_count": null,
   "metadata": {},
   "outputs": [],
   "source": []
  },
  {
   "cell_type": "code",
   "execution_count": null,
   "metadata": {},
   "outputs": [],
   "source": []
  }
 ],
 "metadata": {
  "kernelspec": {
   "display_name": "Python 3",
   "language": "python",
   "name": "python3"
  },
  "language_info": {
   "codemirror_mode": {
    "name": "ipython",
    "version": 3
   },
   "file_extension": ".py",
   "mimetype": "text/x-python",
   "name": "python",
   "nbconvert_exporter": "python",
   "pygments_lexer": "ipython3",
   "version": "3.6.5"
  }
 },
 "nbformat": 4,
 "nbformat_minor": 2
}
